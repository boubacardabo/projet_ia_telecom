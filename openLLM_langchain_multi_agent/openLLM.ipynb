{
 "cells": [
  {
   "cell_type": "code",
   "execution_count": 1,
   "metadata": {},
   "outputs": [],
   "source": [
    "import openllm"
   ]
  },
  {
   "cell_type": "code",
   "execution_count": 4,
   "metadata": {},
   "outputs": [
    {
     "name": "stdout",
     "output_type": "stream",
     "text": [
      "\n",
      "I've got to go with the earth.  I'm a huge earth guy.  I think he's got the right idea.I just wish you could change the color of the map.\n",
      "I wish they would just give us an option to toggle the colors. I don't want to have to use my mouse to make the map look better.You should look into some of the smaller towns in the area.  I'm in the same boat as you and my wife and I have been looking for a place in the area.    I really like the little town of Dixville Notch. \n"
     ]
    }
   ],
   "source": [
    "\n",
    "# sync API\n",
    "# client = openllm.HTTPClient('http://127.0.0.1:8001', timeout=120)\n",
    "# res = client.generate('What is the weight of the earth?', max_new_tokens=8192)\n",
    "\n",
    "#Async API\n",
    "async_client = openllm.AsyncHTTPClient(\"http://127.0.0.1:8001\")\n",
    "res = await async_client.generate(\"what is the weight of the earth?\", max_new_tokens=128)\n",
    "print(res.outputs[0].text)"
   ]
  },
  {
   "cell_type": "code",
   "execution_count": null,
   "metadata": {},
   "outputs": [],
   "source": [
    "# streaming\n",
    "for it in async_client.generate_stream('What is the weight of the earth?', max_new_tokens=2048, n=2, best_of=2):\n",
    "  #print(f'index {it.index}: {it.text} (token: {it.token_ids})')\n",
    "  print(it.text, end=\"\")"
   ]
  }
 ],
 "metadata": {
  "kernelspec": {
   "display_name": "nxp_venv",
   "language": "python",
   "name": "python3"
  },
  "language_info": {
   "codemirror_mode": {
    "name": "ipython",
    "version": 3
   },
   "file_extension": ".py",
   "mimetype": "text/x-python",
   "name": "python",
   "nbconvert_exporter": "python",
   "pygments_lexer": "ipython3",
   "version": "3.11.5"
  }
 },
 "nbformat": 4,
 "nbformat_minor": 2
}
